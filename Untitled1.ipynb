{
 "cells": [
  {
   "cell_type": "code",
   "execution_count": 1,
   "id": "1ea09787",
   "metadata": {},
   "outputs": [],
   "source": [
    "from pathlib import Path\n",
    "import json\n",
    "import pandas as pd"
   ]
  },
  {
   "cell_type": "code",
   "execution_count": 2,
   "id": "4869ba33",
   "metadata": {},
   "outputs": [],
   "source": [
    "def load_data(in_file: Path):\n",
    "    with open(in_file, 'r', encoding='utf8') as f:\n",
    "        js = json.load(f)\n",
    "        return pd.DataFrame.from_records(js)"
   ]
  },
  {
   "cell_type": "code",
   "execution_count": 3,
   "id": "dd7416c6",
   "metadata": {},
   "outputs": [],
   "source": [
    "s = load_data('upload.json')"
   ]
  },
  {
   "cell_type": "code",
   "execution_count": 14,
   "id": "29561c03",
   "metadata": {},
   "outputs": [],
   "source": [
    "s.groupby('pack').size().to_clipboard()"
   ]
  },
  {
   "cell_type": "code",
   "execution_count": 9,
   "id": "a0462b25",
   "metadata": {},
   "outputs": [
    {
     "data": {
      "text/html": [
       "<div>\n",
       "<style scoped>\n",
       "    .dataframe tbody tr th:only-of-type {\n",
       "        vertical-align: middle;\n",
       "    }\n",
       "\n",
       "    .dataframe tbody tr th {\n",
       "        vertical-align: top;\n",
       "    }\n",
       "\n",
       "    .dataframe thead th {\n",
       "        text-align: right;\n",
       "    }\n",
       "</style>\n",
       "<table border=\"1\" class=\"dataframe\">\n",
       "  <thead>\n",
       "    <tr style=\"text-align: right;\">\n",
       "      <th></th>\n",
       "      <th>pack</th>\n",
       "      <th>song</th>\n",
       "      <th>mode</th>\n",
       "      <th>difficulty</th>\n",
       "      <th>timestamp</th>\n",
       "    </tr>\n",
       "  </thead>\n",
       "  <tbody>\n",
       "    <tr>\n",
       "      <th>68</th>\n",
       "      <td>Otaku's Dream Mix 5 -Pad-</td>\n",
       "      <td>Caramel Heaven (Last Note. feat Yuikonnu) [Huz...</td>\n",
       "      <td>dance-single</td>\n",
       "      <td>Medium</td>\n",
       "      <td>2023-08-18T15:40:11</td>\n",
       "    </tr>\n",
       "    <tr>\n",
       "      <th>76</th>\n",
       "      <td>Otaku's Dream Mix -Pad-</td>\n",
       "      <td>(neothe0ne) Gee</td>\n",
       "      <td>dance-single</td>\n",
       "      <td>Beginner</td>\n",
       "      <td>2023-08-18T16:08:54</td>\n",
       "    </tr>\n",
       "    <tr>\n",
       "      <th>134</th>\n",
       "      <td>Jubo 2022 OtakuVibes</td>\n",
       "      <td>CHAINSAW BLOOD [Chainsaw Man ED1]</td>\n",
       "      <td>dance-single</td>\n",
       "      <td>Medium</td>\n",
       "      <td>2023-08-19T11:50:22</td>\n",
       "    </tr>\n",
       "    <tr>\n",
       "      <th>161</th>\n",
       "      <td>Otaku's Dream Mix 2 -Pad-</td>\n",
       "      <td>(DJ Pop) Connect (Puella Magi Madoka Magica)</td>\n",
       "      <td>dance-single</td>\n",
       "      <td>Medium</td>\n",
       "      <td>2023-08-19T13:56:19</td>\n",
       "    </tr>\n",
       "    <tr>\n",
       "      <th>162</th>\n",
       "      <td>Otaku's Dream Mix -Pad-</td>\n",
       "      <td>(FoxX) Fires of Hokkai</td>\n",
       "      <td>dance-single</td>\n",
       "      <td>Challenge</td>\n",
       "      <td>2023-08-19T14:00:53</td>\n",
       "    </tr>\n",
       "    <tr>\n",
       "      <th>232</th>\n",
       "      <td>Otaku's Dream Mix -Pad-</td>\n",
       "      <td>(neothe0ne) Cagayake!GIRLS (K-ON!)</td>\n",
       "      <td>dance-single</td>\n",
       "      <td>Medium</td>\n",
       "      <td>2023-08-19T18:06:40</td>\n",
       "    </tr>\n",
       "    <tr>\n",
       "      <th>280</th>\n",
       "      <td>Jubo 2022 OtakuVibes</td>\n",
       "      <td>Seishun Complex [Bocchi the Rock! OP]</td>\n",
       "      <td>dance-single</td>\n",
       "      <td>Hard</td>\n",
       "      <td>2023-08-20T13:03:18</td>\n",
       "    </tr>\n",
       "    <tr>\n",
       "      <th>322</th>\n",
       "      <td>Otaku's Dream Mix 5 -Pad-</td>\n",
       "      <td>holLow wORlD (FateHollow Ataraxia) [Itsugo15]</td>\n",
       "      <td>dance-single</td>\n",
       "      <td>Challenge</td>\n",
       "      <td>2023-08-20T15:57:37</td>\n",
       "    </tr>\n",
       "    <tr>\n",
       "      <th>335</th>\n",
       "      <td>Otaku's Dream Mix 5 -Pad-</td>\n",
       "      <td>Lachryma (ReQueen'M) (ReQueen'M) (SOUND VOLTEX...</td>\n",
       "      <td>dance-single</td>\n",
       "      <td>Medium</td>\n",
       "      <td>2023-08-20T16:58:33</td>\n",
       "    </tr>\n",
       "    <tr>\n",
       "      <th>336</th>\n",
       "      <td>Otaku's Dream Mix 5 -Pad-</td>\n",
       "      <td>You Only Live Once (Yuuri!!! on ICE) [Aikyoku]</td>\n",
       "      <td>dance-single</td>\n",
       "      <td>Hard</td>\n",
       "      <td>2023-08-20T17:03:53</td>\n",
       "    </tr>\n",
       "  </tbody>\n",
       "</table>\n",
       "</div>"
      ],
      "text/plain": [
       "                          pack   \n",
       "68   Otaku's Dream Mix 5 -Pad-  \\\n",
       "76     Otaku's Dream Mix -Pad-   \n",
       "134       Jubo 2022 OtakuVibes   \n",
       "161  Otaku's Dream Mix 2 -Pad-   \n",
       "162    Otaku's Dream Mix -Pad-   \n",
       "232    Otaku's Dream Mix -Pad-   \n",
       "280       Jubo 2022 OtakuVibes   \n",
       "322  Otaku's Dream Mix 5 -Pad-   \n",
       "335  Otaku's Dream Mix 5 -Pad-   \n",
       "336  Otaku's Dream Mix 5 -Pad-   \n",
       "\n",
       "                                                  song          mode   \n",
       "68   Caramel Heaven (Last Note. feat Yuikonnu) [Huz...  dance-single  \\\n",
       "76                                     (neothe0ne) Gee  dance-single   \n",
       "134                  CHAINSAW BLOOD [Chainsaw Man ED1]  dance-single   \n",
       "161       (DJ Pop) Connect (Puella Magi Madoka Magica)  dance-single   \n",
       "162                             (FoxX) Fires of Hokkai  dance-single   \n",
       "232                 (neothe0ne) Cagayake!GIRLS (K-ON!)  dance-single   \n",
       "280              Seishun Complex [Bocchi the Rock! OP]  dance-single   \n",
       "322      holLow wORlD (FateHollow Ataraxia) [Itsugo15]  dance-single   \n",
       "335  Lachryma (ReQueen'M) (ReQueen'M) (SOUND VOLTEX...  dance-single   \n",
       "336     You Only Live Once (Yuuri!!! on ICE) [Aikyoku]  dance-single   \n",
       "\n",
       "    difficulty            timestamp  \n",
       "68      Medium  2023-08-18T15:40:11  \n",
       "76    Beginner  2023-08-18T16:08:54  \n",
       "134     Medium  2023-08-19T11:50:22  \n",
       "161     Medium  2023-08-19T13:56:19  \n",
       "162  Challenge  2023-08-19T14:00:53  \n",
       "232     Medium  2023-08-19T18:06:40  \n",
       "280       Hard  2023-08-20T13:03:18  \n",
       "322  Challenge  2023-08-20T15:57:37  \n",
       "335     Medium  2023-08-20T16:58:33  \n",
       "336       Hard  2023-08-20T17:03:53  "
      ]
     },
     "execution_count": 9,
     "metadata": {},
     "output_type": "execute_result"
    }
   ],
   "source": [
    "s[s.pack.str.contains('Otaku')]"
   ]
  },
  {
   "cell_type": "code",
   "execution_count": 37,
   "id": "344bf953",
   "metadata": {},
   "outputs": [],
   "source": [
    "import openpyxl\n",
    "from openpyxl import Workbook, load_workbook\n",
    "from openpyxl.cell import Cell\n",
    "from openpyxl.comments import Comment\n",
    "from openpyxl.styles import Alignment, Fill, PatternFill\n",
    "from openpyxl.utils import get_column_letter, column_index_from_string\n",
    "from openpyxl.worksheet.worksheet import Worksheet\n",
    "from copy import copy\n",
    "from openpyxl.worksheet.cell_range import CellRange"
   ]
  },
  {
   "cell_type": "code",
   "execution_count": 21,
   "id": "10416666",
   "metadata": {},
   "outputs": [],
   "source": [
    "wb = load_workbook('template.xlsx')\n",
    "ws: Worksheet = wb[\"General\"]"
   ]
  },
  {
   "cell_type": "code",
   "execution_count": 56,
   "id": "7764a381",
   "metadata": {},
   "outputs": [
    {
     "name": "stdout",
     "output_type": "stream",
     "text": [
      "Printing from 41\n",
      "Printing from 42\n",
      "Printing from 43\n",
      "Printing from 51\n",
      "Printing from 52\n",
      "Printing from 53\n"
     ]
    }
   ],
   "source": [
    "def letter_to_index(c):\n",
    "    if isinstance(c, str):\n",
    "        return column_index_from_string(c)\n",
    "    return c\n",
    "\n",
    "def copy_column(ws, src_column, num, dest_column):\n",
    "    src_column = letter_to_index(src_column)\n",
    "    dest_column = letter_to_index(dest_column)\n",
    "    \n",
    "    final_column = src_column + num - 1\n",
    "    r = f'{get_column_letter(src_column)}:{get_column_letter(final_column)}'\n",
    "    for column in ws[r]:\n",
    "        for cell in column:\n",
    "            print('Printing from ' + str(cell.column) + str(cell.row))\n",
    "#             sdflkjskdflkjsdf\n",
    "            new_cell = ws.cell(row=cell.row, column=dest_column + (cell.column - src_column), value=cell.value)\n",
    "#             import pdb\n",
    "#             pdb.set_trace()\n",
    "            if cell.has_style:\n",
    "                new_cell.font = copy(cell.font)\n",
    "                new_cell.border = copy(cell.border)\n",
    "                new_cell.fill = copy(cell.fill)\n",
    "                new_cell.number_format = copy(cell.number_format)\n",
    "                new_cell.protection = copy(cell.protection)\n",
    "                new_cell.alignment = copy(cell.alignment)\n",
    "    \n",
    "    # copy merged cells\n",
    "    for mcr in set(ws.merged_cells.ranges):\n",
    "        if not(src_column <= mcr.min_col <= final_column):\n",
    "            continue\n",
    "        cr = CellRange(mcr.coord)\n",
    "        cr.shift(col_shift=num)\n",
    "        ws.merge_cells(cr.coord)\n",
    "\n",
    "wb = load_workbook('template.xlsx')\n",
    "ws: Worksheet = wb[\"General\"]\n",
    "copy_column(ws, \"D\", 2, \"F\")\n",
    "wb.save('template2.xlsx')"
   ]
  },
  {
   "cell_type": "code",
   "execution_count": 50,
   "id": "8e2852d6",
   "metadata": {},
   "outputs": [
    {
     "data": {
      "text/plain": [
       "['__bool__',\n",
       " '__class__',\n",
       " '__contains__',\n",
       " '__copy__',\n",
       " '__delattr__',\n",
       " '__dict__',\n",
       " '__dir__',\n",
       " '__doc__',\n",
       " '__eq__',\n",
       " '__format__',\n",
       " '__ge__',\n",
       " '__getattribute__',\n",
       " '__gt__',\n",
       " '__hash__',\n",
       " '__iadd__',\n",
       " '__init__',\n",
       " '__init_subclass__',\n",
       " '__iter__',\n",
       " '__le__',\n",
       " '__lt__',\n",
       " '__module__',\n",
       " '__ne__',\n",
       " '__new__',\n",
       " '__reduce__',\n",
       " '__reduce_ex__',\n",
       " '__repr__',\n",
       " '__setattr__',\n",
       " '__sizeof__',\n",
       " '__str__',\n",
       " '__subclasshook__',\n",
       " '__weakref__',\n",
       " 'add',\n",
       " 'ranges',\n",
       " 'remove',\n",
       " 'sorted']"
      ]
     },
     "execution_count": 50,
     "metadata": {},
     "output_type": "execute_result"
    }
   ],
   "source": [
    "dir(ws.merged_cells)"
   ]
  },
  {
   "cell_type": "code",
   "execution_count": 53,
   "id": "a323230a",
   "metadata": {},
   "outputs": [
    {
     "name": "stdout",
     "output_type": "stream",
     "text": [
      "4\n",
      "D1:E1\n"
     ]
    }
   ],
   "source": [
    "for i in ws.merged_cells.ranges:\n",
    "    print(i.min_col)\n",
    "    print(i.coord)"
   ]
  }
 ],
 "metadata": {
  "kernelspec": {
   "display_name": "Python 3 (ipykernel)",
   "language": "python",
   "name": "python3"
  },
  "language_info": {
   "codemirror_mode": {
    "name": "ipython",
    "version": 3
   },
   "file_extension": ".py",
   "mimetype": "text/x-python",
   "name": "python",
   "nbconvert_exporter": "python",
   "pygments_lexer": "ipython3",
   "version": "3.9.13"
  }
 },
 "nbformat": 4,
 "nbformat_minor": 5
}

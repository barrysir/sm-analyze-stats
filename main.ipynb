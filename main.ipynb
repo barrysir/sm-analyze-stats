{
 "cells": [
  {
   "cell_type": "code",
   "execution_count": null,
   "id": "09042531",
   "metadata": {},
   "outputs": [],
   "source": [
    "import xml.etree.ElementTree as ET\n",
    "import pandas as pd\n",
    "import numpy as np\n",
    "import datetime as dt"
   ]
  },
  {
   "cell_type": "code",
   "execution_count": null,
   "id": "f2c0cd1b",
   "metadata": {},
   "outputs": [],
   "source": [
    "tree = ET.parse('Stats.xml')\n",
    "root = tree.getroot()\n",
    "songscores = root.find('SongScores')"
   ]
  },
  {
   "cell_type": "markdown",
   "id": "9dd73d51",
   "metadata": {},
   "source": [
    "## Load Dataframes"
   ]
  },
  {
   "cell_type": "code",
   "execution_count": null,
   "id": "c309377e",
   "metadata": {},
   "outputs": [],
   "source": [
    "# You can fill this with any packs you don't want to show in the stats.\n",
    "# Use cases: Packs that have been removed from the cab (but still appear in the Stats.xml)\n",
    "IGNORED_PACKS = set([\n",
    "])"
   ]
  },
  {
   "cell_type": "code",
   "execution_count": null,
   "id": "87ef8119",
   "metadata": {},
   "outputs": [],
   "source": [
    "# construct played songs dataframe\n",
    "\n",
    "def allsongnames(songscores):\n",
    "    def strip_prefix(string, prefix):\n",
    "        if string.startswith(prefix):\n",
    "            return string[len(prefix):]\n",
    "        return string\n",
    "    \n",
    "    names = []\n",
    "    highscores = []\n",
    "    for song in songscores:\n",
    "        songdir = song.get('Dir') \n",
    "        \n",
    "        # note: need to additionally deal with \"AdditionalSongs\" paths\n",
    "        # (packs from AdditionalSongFolders will show as `AdditionalSongs/pack/song/` instead of `pack/song/`)\n",
    "        # solution(?): strip everything but the last two segments of the path\n",
    "        # not sure if AdditionalSongs is the only case this will happen,\n",
    "        # but hopefully this handles anything else that might show up?\n",
    "        parts = songdir.strip('/').split('/')\n",
    "        *_, pack, songname = parts\n",
    "        songdir = f'{pack}/{songname}/'\n",
    "        \n",
    "        if pack in IGNORED_PACKS:\n",
    "            continue\n",
    "        \n",
    "        editcount = 0\n",
    "        for steps in song.findall('Steps'):\n",
    "            steptype = steps.get('StepsType')\n",
    "            difficulty = steps.get('Difficulty')\n",
    "            # if there are multiple edits, give them unique names to make processing easier, \"Edit\", \"Edit-1\", \"Edit-2\", etc.\n",
    "            if difficulty == 'Edit':\n",
    "                if editcount >= 1:\n",
    "                    difficulty = f'{difficulty}-{editcount}'\n",
    "                editcount += 1\n",
    "            numplayed = int(steps.find('HighScoreList/NumTimesPlayed').text)\n",
    "            lastplayed = pd.Timestamp(steps.find('HighScoreList/LastPlayed').text)\n",
    "            names.append((songdir, steptype, difficulty, numplayed, lastplayed))\n",
    "            \n",
    "            # don't track leaderboards for USB customs, leads to rank inflation\n",
    "            if pack != '@mem':\n",
    "                leaderboards = []\n",
    "                for score in steps.find('HighScoreList').findall('HighScore'):\n",
    "                    # don't include any scores on slower ratemods\n",
    "                    # (might be better to clean this up in the stats file itself!)\n",
    "                    modifiers = score.find('Modifiers').text\n",
    "                    if 'xMusic' in modifiers:\n",
    "                        mods = modifiers.split(',')\n",
    "                        ratemod = next(i for i in mods if 'xMusic' in i)\n",
    "                        ratemod = ratemod.strip().replace('xMusic', '')\n",
    "                        ratemod = float(ratemod)\n",
    "                        if ratemod < 1:\n",
    "                            continue\n",
    "                        \n",
    "                    leaderboards.append((score.find('Name').text, float(score.find('PercentDP').text)))\n",
    "\n",
    "                leaderboards.sort(key=lambda x: x[1], reverse=True)\n",
    "                for i,v in enumerate(leaderboards):\n",
    "                    highscores.append((songdir, steptype, difficulty, i+1, v[0], v[1]))\n",
    "                \n",
    "    return names, highscores\n",
    "\n",
    "playcount, highscores = allsongnames(songscores)\n",
    "\n",
    "df_playedsongs = pd.DataFrame(playcount, columns=['key', 'steptype', 'difficulty', 'playcount', 'lastplayed'])\n",
    "df_playedsongs = df_playedsongs.set_index(['key', 'steptype', 'difficulty'])\n",
    "\n",
    "df_leaderboards = pd.DataFrame(highscores, columns=['key', 'steptype', 'difficulty', 'place', 'player', 'dp'])\n",
    "df_leaderboards = df_leaderboards.set_index(['key', 'steptype', 'difficulty'])"
   ]
  },
  {
   "cell_type": "code",
   "execution_count": null,
   "id": "920403b5",
   "metadata": {},
   "outputs": [],
   "source": [
    "# load availablesongs csv as a dataframe\n",
    "\n",
    "import os\n",
    "from pathlib import Path\n",
    "import csv\n",
    "from collections import Counter\n",
    "\n",
    "AVAILABLE_SONGS_PATH = 'available.csv'\n",
    "\n",
    "def loadfromcsv(path):\n",
    "    with open(path, newline='', encoding='utf8') as csvfile:\n",
    "        reader = csv.reader(csvfile, delimiter=',', quotechar='\"')\n",
    "        return [row for row in reader]\n",
    "\n",
    "try:\n",
    "    availablesongs = loadfromcsv(AVAILABLE_SONGS_PATH)\n",
    "except FileNotFoundError:\n",
    "    display(f\"Error: couldn't load {AVAILABLE_SONGS_PATH}. Report data may be incomplete\")\n",
    "    availablesongs = []\n",
    "    \n",
    "data = []\n",
    "encountered = Counter()\n",
    "for i,x in enumerate(availablesongs):\n",
    "    # implement IGNORED_PACKS list\n",
    "    pack,songname = x[0].strip('/').split('/')\n",
    "    if pack in IGNORED_PACKS:\n",
    "        continue\n",
    "    \n",
    "    # if a duplicate difficulty is encountered, name it \"Edit\", \"Edit-1\", Edit-2\", ...\n",
    "    key = (x[0], x[2], x[3])\n",
    "    if key in encountered:\n",
    "        availablesongs[i][3] = f'{availablesongs[i][3]}-{encountered[key]}'\n",
    "    availablesongs[i][4] = int(availablesongs[i][4])\n",
    "    encountered[key] += 1\n",
    "    data.append(availablesongs[i])\n",
    "\n",
    "df_availablesongs = pd.DataFrame(data, columns=['key', 'songname', 'steptype', 'difficulty', 'meter'])\n",
    "df_availablesongs = df_availablesongs.set_index(['key', 'steptype', 'difficulty'])"
   ]
  },
  {
   "cell_type": "code",
   "execution_count": null,
   "id": "d98cb30e",
   "metadata": {
    "scrolled": true
   },
   "outputs": [],
   "source": [
    "df_availablesongs"
   ]
  },
  {
   "cell_type": "code",
   "execution_count": null,
   "id": "a778ada9",
   "metadata": {},
   "outputs": [],
   "source": [
    "# combine the dataframes together\n",
    "combined = df_playedsongs.combine_first(df_availablesongs)\n",
    "combined['playcount'] = combined['playcount'].fillna(0).astype(int)\n",
    "\n",
    "# my own personal editing: remove any entries for songs which don't appear in the available songs list\n",
    "# if this is commented out, then entries for packs that have been removed/updated will appear in the final list\n",
    "# which may make the chart count and pack completion calculations inaccurate\n",
    "# note that this also removes the @mem pack\n",
    "# combined = combined[combined.index.isin(df_availablesongs.index)]\n",
    "\n",
    "# store the songname column for later, when calculating the pack_info dataframe\n",
    "# drop it from the combined frame cause I don't want the data in this location\n",
    "songnames = combined['songname']\n",
    "combined = combined.drop(columns=['songname'])\n",
    "combined"
   ]
  },
  {
   "cell_type": "code",
   "execution_count": null,
   "id": "c7bb8a78",
   "metadata": {},
   "outputs": [],
   "source": [
    "# sort index for aesthetics (e.g. difficulties show up in Easy, Medium, Hard, Challenge order)\n",
    "def pdict(arr):\n",
    "    return {v:k for k,v in enumerate(arr)}\n",
    "\n",
    "MODE = pdict(['dance-single', 'dance-double', 'pump-single', 'pump-double'])\n",
    "DIFFS = pdict(['Beginner', 'Easy', 'Medium', 'Hard', 'Challenge'])\n",
    "\n",
    "def sorter_difficulty_spread(s):\n",
    "    if s.name == 'steptype':\n",
    "        return s.map(lambda x: MODE.get(x, len(MODE)))\n",
    "    elif s.name == 'difficulty':\n",
    "        return s.map(lambda x: DIFFS.get(x, len(DIFFS)))\n",
    "    return s\n",
    "\n",
    "combined = combined.sort_index(key=sorter_difficulty_spread)"
   ]
  },
  {
   "cell_type": "code",
   "execution_count": null,
   "id": "d10201c4",
   "metadata": {},
   "outputs": [],
   "source": [
    "# construct the pack_info dataframe: pack and song name for each key\n",
    "data = []\n",
    "for k,songname in songnames.groupby('key').first().items():\n",
    "    parts = k.strip('/').split('/')\n",
    "    pack, *_, inferred_songname = parts\n",
    "    # if songname data doesn't exist, fall back to inferring the song name from the folder name\n",
    "    if songname is None:\n",
    "        songname = inferred_songname\n",
    "    data.append((k, pack, songname))\n",
    "\n",
    "pack_info = pd.DataFrame(data, columns=['key', 'pack', 'song']).set_index(['key'])\n",
    "pack_info"
   ]
  },
  {
   "cell_type": "code",
   "execution_count": null,
   "id": "09806605",
   "metadata": {},
   "outputs": [],
   "source": [
    "v = combined.join(pack_info)\n",
    "\n",
    "steptypes = {'dance-single': 'S', 'dance-double': 'D'}\n",
    "steptypes_full = {'dance-single': 'Single', 'dance-double': 'Double'}\n",
    "difficulties = {'Beginner': 'B', 'Easy': 'E', 'Medium': 'M', 'Hard': 'H', 'Challenge': 'X', 'Edit': 'Z'}\n",
    "\n",
    "def shorthand(row):\n",
    "    # SB, SE, SM, SH, SX\n",
    "    # (song name) SX10\n",
    "    # idea (not implemented): display edit name? (song name) SZ69 iunno\n",
    "    steptype = row.name[1]\n",
    "    diff = row.name[2].partition('-')[0]\n",
    "    s = steptypes.get(steptype, None)\n",
    "    d = difficulties.get(diff, None)\n",
    "    if s is None or d is None:\n",
    "        return None\n",
    "    sfull = steptypes_full.get(steptype, None)\n",
    "    meter = '' if pd.isna(row.meter) else int(row.meter)\n",
    "    dtag = f'{s}{d}{meter}'\n",
    "    return (f'{row.song} {dtag}', dtag, sfull)\n",
    "\n",
    "song_shorthand = v.apply(shorthand, axis=1, result_type='expand')\n",
    "song_shorthand = song_shorthand.rename(columns=dict(enumerate(['shorthand', 'dtag', 'stepfull'])))\n",
    "song_shorthand"
   ]
  },
  {
   "cell_type": "code",
   "execution_count": null,
   "id": "a4efe738",
   "metadata": {},
   "outputs": [],
   "source": [
    "# get a list of ddr songs on the cab, used in some calculations\n",
    "v = combined.join(pack_info)\n",
    "ddr_song_list = v[v.pack.str.contains(\"DDR\") | v.pack.str.contains(\"DanceDanceRevolution\")].index\n",
    "ddr_song_list"
   ]
  },
  {
   "cell_type": "code",
   "execution_count": null,
   "id": "4553a21e",
   "metadata": {},
   "outputs": [],
   "source": [
    "# function that should be used in the analysis stages to grab data\n",
    "# does caching so it's more efficient than calling combined.join(pack_info) all the time...\n",
    "\n",
    "import functools\n",
    "\n",
    "@functools.cache\n",
    "def get_song_data(with_songinfo=False, with_mem=False):\n",
    "    global combined, pack_info\n",
    "    df = combined\n",
    "    if not with_mem:\n",
    "        not_including_mem = df.join(pack_info)\n",
    "        not_including_mem = not_including_mem[not_including_mem.pack != '@mem']\n",
    "        df = df.loc[not_including_mem.index]\n",
    "    if with_songinfo:\n",
    "        df = df.join(pack_info)\n",
    "    return df"
   ]
  },
  {
   "cell_type": "markdown",
   "id": "ca4c2a0a",
   "metadata": {},
   "source": [
    "## Helper Queries"
   ]
  },
  {
   "cell_type": "code",
   "execution_count": null,
   "id": "15014a46",
   "metadata": {},
   "outputs": [],
   "source": [
    "# find a particular song name\n",
    "pack_info[pack_info.song.str.contains('The Game')]"
   ]
  },
  {
   "cell_type": "code",
   "execution_count": null,
   "id": "c5cb0dae",
   "metadata": {},
   "outputs": [],
   "source": [
    "# get leaderboards for a given song\n",
    "df_leaderboards.loc['In The Groove/The Game/']"
   ]
  },
  {
   "cell_type": "code",
   "execution_count": null,
   "id": "f70163ea",
   "metadata": {
    "scrolled": true
   },
   "outputs": [],
   "source": [
    "# get played songs for a given pack\n",
    "c = get_song_data(with_songinfo=True)\n",
    "c[(c.pack == \"In The Groove\") & (c.playcount > 0)]"
   ]
  },
  {
   "cell_type": "markdown",
   "id": "761184c8",
   "metadata": {},
   "source": [
    "## Data Analysis"
   ]
  },
  {
   "cell_type": "markdown",
   "id": "15b603ef",
   "metadata": {},
   "source": [
    "### General"
   ]
  },
  {
   "cell_type": "code",
   "execution_count": null,
   "id": "7994cd35",
   "metadata": {},
   "outputs": [],
   "source": [
    "# chart and song counts for each pack (total, singles, doubles)\n",
    "data = get_song_data(with_songinfo = True)\n",
    "\n",
    "def group_by_songs(df):\n",
    "    return df[~df.index.get_level_values('key').duplicated()]\n",
    "\n",
    "def songs_and_charts(v, prefix=''):\n",
    "    if prefix != '':\n",
    "        prefix = f'{prefix}_'    \n",
    "    total_charts = v.groupby('pack').size().rename(f'{prefix}charts')\n",
    "    total_songs = group_by_songs(v).groupby('pack').size().rename(f'{prefix}songs')\n",
    "    return total_songs, total_charts\n",
    "\n",
    "# note: there might be other chart types, like pump-single, pump-double, or weird ones like lights-cabinet\n",
    "# to avoid counting unplayable stuff, I guess we'll filter \"total charts\" to only count dance-single and dance-double\n",
    "normal = songs_and_charts(data.loc[pd.IndexSlice[:, ['dance-single', 'dance-double'], :]])\n",
    "singles = songs_and_charts(data.loc[pd.IndexSlice[:, ['dance-single'], :]], 'singles')\n",
    "doubles = songs_and_charts(data.loc[pd.IndexSlice[:, ['dance-double'], :]], 'doubles')\n",
    "\n",
    "v = pd.concat([*normal, *singles, *doubles], axis=1).fillna(0).sort_index(key=lambda s: s.str.lower()).reset_index()\n",
    "display(v)\n",
    "v.to_clipboard(index=False, header=False)"
   ]
  },
  {
   "cell_type": "code",
   "execution_count": null,
   "id": "81e5a838",
   "metadata": {},
   "outputs": [],
   "source": [
    "# difficulty histogram\n",
    "\n",
    "DIFFICULTY_LIMIT = 27  # group together anything above this block number, handles any joke diffs \"69\", 420\", \"9001\"\n",
    "\n",
    "# for the purposes of the histogram, label any charts with NaN meter (charts in Stats.xml but not found in song folder) as meter 0\n",
    "# (if we leave as NaN, any charts with NaN meter will be ignored by the < operator)\n",
    "normal = data[data.meter.fillna(0) < DIFFICULTY_LIMIT].groupby(['pack', 'meter']).size().to_frame()\n",
    "above = (\n",
    "    data[data.meter >= DIFFICULTY_LIMIT].groupby(['pack']).size().to_frame()\n",
    "    .assign(meter=DIFFICULTY_LIMIT).set_index('meter', append=True)\n",
    ")\n",
    "total = normal.combine_first(above)\n",
    "normalized = total / total.groupby('pack').max()\n",
    "histogram = normalized.unstack().sort_index(key=lambda s: s.str.lower())\n",
    "display(histogram)\n",
    "histogram.to_clipboard(index=False, header=False)"
   ]
  },
  {
   "cell_type": "markdown",
   "id": "bed12e07",
   "metadata": {},
   "source": [
    "### Most Played Charts"
   ]
  },
  {
   "cell_type": "code",
   "execution_count": null,
   "id": "9ba091de",
   "metadata": {
    "scrolled": true
   },
   "outputs": [],
   "source": [
    "def make_most_played_charts(combined):\n",
    "    most_played_charts = combined.sort_values('playcount', ascending=False).head(50)\n",
    "    \n",
    "    # Pack / Song / Steptype (Singles / Doubles) / Difficulty (Expert) / Meter (9) / Playcount / Last played\n",
    "    a = (\n",
    "        most_played_charts\n",
    "        .join(song_shorthand).join(pack_info)\n",
    "        .reset_index(level='difficulty')\n",
    "        [['pack', 'song', 'stepfull', 'difficulty', 'meter', 'playcount', 'lastplayed']]\n",
    "    )\n",
    "    return a\n",
    "\n",
    "a = make_most_played_charts(get_song_data())\n",
    "display(a)\n",
    "a.to_clipboard(index=False, header=False)"
   ]
  },
  {
   "cell_type": "markdown",
   "id": "436985ec",
   "metadata": {},
   "source": [
    "### Most Played Charts - Doubles"
   ]
  },
  {
   "cell_type": "code",
   "execution_count": null,
   "id": "9fcfaa3e",
   "metadata": {},
   "outputs": [],
   "source": [
    "a = make_most_played_charts(get_song_data().loc[pd.IndexSlice[:, ['dance-double'], :]])\n",
    "display(a)\n",
    "a.to_clipboard(index=False, header=False)"
   ]
  },
  {
   "cell_type": "markdown",
   "id": "7e103f49",
   "metadata": {},
   "source": [
    "### Most Played Songs"
   ]
  },
  {
   "cell_type": "code",
   "execution_count": null,
   "id": "bc441824",
   "metadata": {
    "scrolled": true
   },
   "outputs": [],
   "source": [
    "def make_most_played_songs(combined):\n",
    "    # get list of songs with most plays on them\n",
    "    playcount_sum = (\n",
    "        combined.groupby(level=\"key\")\n",
    "        .agg({'playcount': 'sum', 'lastplayed': 'max'})\n",
    "        .rename(columns={'playcount': 'total'})\n",
    "        .sort_values('total', ascending=False)\n",
    "        .head(50)\n",
    "    )\n",
    "\n",
    "    # get playcount breakdown for each song in playcount_sum\n",
    "    playcount_breakdown = (\n",
    "        combined.loc[playcount_sum.index.values, 'playcount']\n",
    "        .unstack(level=[1, 2])  # move stepstype,difficulty to columns\n",
    "    )\n",
    "    \n",
    "    # make sure each difficulty has a BEMHX difficulty spread\n",
    "    for mode in playcount_breakdown.columns.get_level_values(0).unique().to_list():\n",
    "        for diff in ['Beginner', 'Easy', 'Medium', 'Hard', 'Challenge']:\n",
    "            if (mode, diff) not in playcount_breakdown.columns:\n",
    "                playcount_breakdown[(mode, diff)] = float('nan')\n",
    "    \n",
    "    # resort columns\n",
    "    playcount_breakdown = playcount_breakdown.sort_index(key=sorter_difficulty_spread, axis=1)\n",
    "\n",
    "    # join the tables together\n",
    "    playcount_sum.columns = pd.MultiIndex.from_product([playcount_sum.columns, ['']])\n",
    "    playcount_breakdown = playcount_sum.join(playcount_breakdown)\n",
    "    \n",
    "    # format for display\n",
    "    v = pack_info.copy(deep=False)\n",
    "    v.columns = pd.MultiIndex.from_product([pack_info.columns, ['']])\n",
    "    v = v.join(playcount_breakdown, how='right')\n",
    "\n",
    "    return v\n",
    "    \n",
    "v = make_most_played_songs(get_song_data())\n",
    "display(v)\n",
    "v.to_clipboard(index=False, header=False)"
   ]
  },
  {
   "cell_type": "markdown",
   "id": "38dbc178",
   "metadata": {},
   "source": [
    "#### Most Played Songs - Doubles"
   ]
  },
  {
   "cell_type": "code",
   "execution_count": null,
   "id": "eed663ee",
   "metadata": {},
   "outputs": [],
   "source": [
    "v = make_most_played_songs(get_song_data().loc[pd.IndexSlice[:, ['dance-double'], :]])\n",
    "display(v)\n",
    "v.to_clipboard(index=False, header=False)"
   ]
  },
  {
   "cell_type": "markdown",
   "id": "825e1edb",
   "metadata": {},
   "source": [
    "### Most played packs + charts within pack"
   ]
  },
  {
   "cell_type": "code",
   "execution_count": null,
   "id": "2e2eb487",
   "metadata": {
    "scrolled": true
   },
   "outputs": [],
   "source": [
    "v = get_song_data(with_songinfo=True)\n",
    "\n",
    "# generate the top N most played songs in each pack\n",
    "place = v.sort_values('playcount', ascending=False).groupby('pack').cumcount() + 1\n",
    "x = v.assign(place=place)\n",
    "x = x[x.place <= 10].join(song_shorthand)\n",
    "y = x.reset_index().set_index(['pack', 'place'])\n",
    "\n",
    "# unstack N most played songs + some column reordering\n",
    "def most_played_songs_by_pack_sorter(s):\n",
    "    if s.name == 'place':\n",
    "        return s\n",
    "    else:\n",
    "        ordering = ['shorthand', 'playcount']\n",
    "        return s.map({k:v for v,k in enumerate(ordering)})\n",
    "\n",
    "def a(s):\n",
    "    return \"({playcount}) {shorthand}\".format(**s)\n",
    "\n",
    "most_played_songs_by_pack = (\n",
    "    y[['shorthand', 'playcount']]\n",
    "    .apply(a, axis=1)\n",
    "    .unstack('place')\n",
    "    # .unstack('place').reorder_levels([1, 0], axis=1).sort_index(axis=1, key=most_played_songs_by_pack_sorter)\n",
    "    # pd.concat([most_played_packs], axis=1, keys=[''])\n",
    ")\n",
    "\n",
    "# calculate the most played packs\n",
    "most_played_packs = (\n",
    "    v.groupby('pack')\n",
    "    .agg({'playcount': 'sum', 'lastplayed': 'max'})\n",
    "    .sort_values(by='playcount', ascending=False)\n",
    ")\n",
    "\n",
    "# format for display\n",
    "v = most_played_packs.join(most_played_songs_by_pack).reset_index()\n",
    "display(v)\n",
    "v.to_clipboard(index=False, header=False)"
   ]
  },
  {
   "cell_type": "markdown",
   "id": "e11d5ee6",
   "metadata": {},
   "source": [
    "### Recently Played Packs"
   ]
  },
  {
   "cell_type": "code",
   "execution_count": null,
   "id": "ed8c2a04",
   "metadata": {},
   "outputs": [],
   "source": [
    "last_played_packs = (\n",
    "    get_song_data().groupby(level='key')\n",
    "    .agg({'lastplayed': 'max'})\n",
    "    .join(pack_info)\n",
    "    .groupby('pack')\n",
    "    .agg({'lastplayed': 'max'})\n",
    "    .sort_values(by='lastplayed', ascending=False)\n",
    ")\n",
    "v = last_played_packs.reset_index()\n",
    "display(v)\n",
    "v.to_clipboard(index=False, header=False)"
   ]
  },
  {
   "cell_type": "markdown",
   "id": "20342d28",
   "metadata": {},
   "source": [
    "### Pack Completion"
   ]
  },
  {
   "cell_type": "code",
   "execution_count": null,
   "id": "9b69bd9f",
   "metadata": {
    "scrolled": true
   },
   "outputs": [],
   "source": [
    "v = get_song_data(with_songinfo = True)\n",
    "v_played = v[v.playcount > 0]\n",
    "\n",
    "played_charts = v_played.groupby('pack').size()\n",
    "total_charts = v.groupby('pack').size()\n",
    "\n",
    "def group_by_songs(df):\n",
    "    return df[~df.index.get_level_values('key').duplicated()]\n",
    "\n",
    "played_songs = group_by_songs(v_played).groupby('pack').size()\n",
    "total_songs = group_by_songs(v).groupby('pack').size()"
   ]
  },
  {
   "cell_type": "code",
   "execution_count": null,
   "id": "d9d8632b",
   "metadata": {
    "scrolled": true
   },
   "outputs": [],
   "source": [
    "percentage_played = (\n",
    "    pd.DataFrame(index=total_charts.index)\n",
    "    .assign(\n",
    "        played_songs = played_songs,\n",
    "        total_songs = total_songs,\n",
    "        ratio_songs = played_songs/total_songs,\n",
    "        played_charts = played_charts,\n",
    "        total_charts = total_charts,\n",
    "        ratio_charts = played_charts/total_charts,\n",
    "    )\n",
    "    .fillna(0)\n",
    "    .sort_values(['ratio_songs', 'total_songs'], ascending=False)\n",
    ")\n",
    "percentage_played"
   ]
  },
  {
   "cell_type": "code",
   "execution_count": null,
   "id": "f7debe90",
   "metadata": {},
   "outputs": [],
   "source": [
    "GRADE_LOOKUP = {\n",
    "    100: '☆☆☆☆',\n",
    "    99: '☆☆☆',\n",
    "    98: '☆☆',\n",
    "    96: '☆',\n",
    "    90: '90',\n",
    "    80: '80',\n",
    "    70: '70',\n",
    "    60: '60',\n",
    "    50: '50',\n",
    "    0: '0',\n",
    "}\n",
    "\n",
    "# massage GRADE_LOOKUP into values for pd.cut\n",
    "c = list(GRADE_LOOKUP.items())\n",
    "c.sort(key=lambda x: x[0])\n",
    "values = [i[0]/100 for i in c] + [np.inf]\n",
    "labels = [i[1] for i in c]\n",
    "\n",
    "# compute the grade of each top score in the leaderboard\n",
    "top_scores_per_song = df_leaderboards[~df_leaderboards.index.duplicated(keep='first')]\n",
    "grades = pd.cut(\n",
    "    top_scores_per_song['dp'],\n",
    "    values,\n",
    "    labels=labels,\n",
    "    right=False\n",
    ").rename('grade')\n",
    "    \n",
    "grade_breakdown_per_pack = v_played.join(grades).groupby(['pack', 'grade']).size().unstack().sort_index(axis=1, ascending=False)\n",
    "\n",
    "# format for output\n",
    "v = percentage_played.join(grade_breakdown_per_pack).reset_index()\n",
    "display(v)\n",
    "v.to_clipboard(index=False, header=False)"
   ]
  },
  {
   "cell_type": "markdown",
   "id": "5dfc6653",
   "metadata": {},
   "source": [
    "### Highest Passes"
   ]
  },
  {
   "cell_type": "code",
   "execution_count": null,
   "id": "b6cad313",
   "metadata": {
    "scrolled": true
   },
   "outputs": [],
   "source": [
    "t = df_leaderboards.join(get_song_data(with_songinfo=True)).join(song_shorthand)\n",
    "\n",
    "# remove DDR songs since it uses different difficulty blocks\n",
    "t = t[~t.index.isin(ddr_song_list)]\n",
    "\n",
    "# remove any charts above a certain difficulty (joke charts)\n",
    "t = t[t.meter <= 27]\n",
    "\n",
    "t = t[t.player != '4199']\n",
    "\n",
    "t = t.sort_values(by=['meter', 'dp'], ascending=False)\n",
    "\n",
    "def make_highest_passes(t):\n",
    "    return t.head(50).reset_index()[['pack', 'song', 'stepfull', 'difficulty', 'meter', 'player', 'dp']]"
   ]
  },
  {
   "cell_type": "code",
   "execution_count": null,
   "id": "fb77a3f5",
   "metadata": {
    "scrolled": true
   },
   "outputs": [],
   "source": [
    "v = make_highest_passes(t[t.stepfull == 'Single'])\n",
    "display(v)\n",
    "v.to_clipboard(index=False, header=False)"
   ]
  },
  {
   "cell_type": "markdown",
   "id": "aae63d6e",
   "metadata": {},
   "source": [
    "#### Doubles Only"
   ]
  },
  {
   "cell_type": "code",
   "execution_count": null,
   "id": "2e8837b4",
   "metadata": {
    "scrolled": true
   },
   "outputs": [],
   "source": [
    "v = make_highest_passes(t[t.stepfull == 'Double'])\n",
    "display(v)\n",
    "v.to_clipboard(index=False, header=False)"
   ]
  },
  {
   "cell_type": "markdown",
   "id": "9bf35b58",
   "metadata": {},
   "source": [
    "#### Pass counts"
   ]
  },
  {
   "cell_type": "code",
   "execution_count": null,
   "id": "10a4372c",
   "metadata": {},
   "outputs": [],
   "source": [
    "t.groupby('meter').size()"
   ]
  },
  {
   "cell_type": "markdown",
   "id": "bae917b3",
   "metadata": {},
   "source": [
    "### Highest Scores"
   ]
  },
  {
   "cell_type": "code",
   "execution_count": null,
   "id": "0e363ce9",
   "metadata": {
    "scrolled": true
   },
   "outputs": [],
   "source": [
    "scores = df_leaderboards.join(get_song_data(with_songinfo=True)).sort_values(by=['dp', 'meter'], ascending=False)\n",
    "\n",
    "def make_highest_scores(scores):\n",
    "    # Pack / Song / Mode / Difficulty / Meter / Player / Score\n",
    "    return (\n",
    "        scores.head(100)\n",
    "        .join(song_shorthand)\n",
    "        # index gets reordered after joining... sort again\n",
    "        .sort_values(by=['dp', 'meter'], ascending=False)\n",
    "        .reset_index()\n",
    "        [['pack', 'song', 'stepfull', 'difficulty', 'meter', 'player', 'dp']]\n",
    "    )"
   ]
  },
  {
   "cell_type": "code",
   "execution_count": null,
   "id": "67908579",
   "metadata": {
    "scrolled": true
   },
   "outputs": [],
   "source": [
    "v = make_highest_scores(scores.loc[pd.IndexSlice[:, ['dance-single'], :]])\n",
    "display(v)\n",
    "v.to_clipboard(index=False, header=False)"
   ]
  },
  {
   "cell_type": "markdown",
   "id": "73d1b15d",
   "metadata": {},
   "source": [
    "#### Doubles Only"
   ]
  },
  {
   "cell_type": "code",
   "execution_count": null,
   "id": "eabf7059",
   "metadata": {},
   "outputs": [],
   "source": [
    "v = make_highest_scores(scores.loc[pd.IndexSlice[:, ['dance-double'], :]])\n",
    "display(v)\n",
    "v.to_clipboard(index=False, header=False)"
   ]
  },
  {
   "cell_type": "markdown",
   "id": "aac6ce07",
   "metadata": {},
   "source": [
    "### Leaderboards"
   ]
  },
  {
   "cell_type": "code",
   "execution_count": null,
   "id": "9d8dcabf",
   "metadata": {},
   "outputs": [],
   "source": [
    "# player places on leaderboard\n",
    "\n",
    "a = df_leaderboards.groupby(['player', 'place']).size()\n",
    "\n",
    "player_songs = df_leaderboards.groupby('player').size()\n",
    "player_first_places = a.unstack().sort_values(by=1, ascending=False)\n",
    "player_first_places"
   ]
  },
  {
   "cell_type": "code",
   "execution_count": null,
   "id": "c9e13830",
   "metadata": {},
   "outputs": [],
   "source": [
    "# player \"points\": in a leaderboard with 4 spots, 1st place gets 4 points, 2nd place 3, 3rd place 2, 4th place 1\n",
    "\n",
    "b = df_leaderboards.groupby(level=['key', 'steptype', 'difficulty']).size().rename('total')\n",
    "with_points = df_leaderboards.join(b)\n",
    "with_points['points'] = with_points['total'] - with_points['place'] + 1\n",
    "\n",
    "player_points = with_points.groupby('player')['points'].sum()\n",
    "player_points"
   ]
  },
  {
   "cell_type": "code",
   "execution_count": null,
   "id": "47232e34",
   "metadata": {},
   "outputs": [],
   "source": [
    "v = pd.concat([player_first_places, player_songs.rename('songs'), player_points], axis=1)\n",
    "# sort by number of first places\n",
    "v = v.sort_values(by=1, ascending=False)\n",
    "v = v.head(100)\n",
    "v = v.reset_index()\n",
    "\n",
    "display(v)\n",
    "v.to_clipboard(index=False, header=False)"
   ]
  }
 ],
 "metadata": {
  "kernelspec": {
   "display_name": "Python 3 (ipykernel)",
   "language": "python",
   "name": "python3"
  },
  "language_info": {
   "codemirror_mode": {
    "name": "ipython",
    "version": 3
   },
   "file_extension": ".py",
   "mimetype": "text/x-python",
   "name": "python",
   "nbconvert_exporter": "python",
   "pygments_lexer": "ipython3",
   "version": "3.9.13"
  }
 },
 "nbformat": 4,
 "nbformat_minor": 5
}

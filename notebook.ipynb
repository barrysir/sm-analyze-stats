{
 "cells": [
  {
   "cell_type": "markdown",
   "id": "27318eca",
   "metadata": {},
   "source": [
    "## Preamble"
   ]
  },
  {
   "cell_type": "code",
   "execution_count": null,
   "id": "1258a6a9",
   "metadata": {},
   "outputs": [],
   "source": [
    "from pathlib import Path\n",
    "import json\n",
    "import pandas as pd\n",
    "import importlib\n",
    "import sys"
   ]
  },
  {
   "cell_type": "code",
   "execution_count": null,
   "id": "7177be21",
   "metadata": {},
   "outputs": [],
   "source": [
    "# can also use %autoreload https://ipython.readthedocs.io/en/stable/config/extensions/autoreload.html \n",
    "# but it reloads all modules so it's inefficient\n",
    "# https://stackoverflow.com/questions/4111640/how-to-reimport-module-to-python-then-code-be-changed-after-import\n",
    "\n",
    "# Load/reload TableStats object\n",
    "import table_stats\n",
    "from table_stats import TableStats\n",
    "importlib.reload(table_stats)\n",
    "s = TableStats()\n",
    "s.fill_stats_xml(Path(\"Stats.xml\"))\n",
    "s.fill_song_listing(Path(\"available.csv\"))"
   ]
  },
  {
   "cell_type": "code",
   "execution_count": null,
   "id": "a54b5a5f",
   "metadata": {
    "scrolled": true
   },
   "outputs": [],
   "source": [
    "# Load/reload analyzers\n",
    "import analyzers\n",
    "importlib.reload(analyzers)"
   ]
  },
  {
   "cell_type": "markdown",
   "id": "6304ecc6",
   "metadata": {},
   "source": [
    "## Individual Table Generation"
   ]
  },
  {
   "cell_type": "code",
   "execution_count": null,
   "id": "4edee01a",
   "metadata": {},
   "outputs": [],
   "source": [
    "import analysis\n",
    "importlib.reload(analysis)\n",
    "wb = load_workbook('template.xlsx')\n",
    "ws: Worksheet = wb[\"General\"]\n",
    "analysis.create_general_sheet(ws, s)\n",
    "wb.save('template2.xlsx')"
   ]
  },
  {
   "cell_type": "code",
   "execution_count": null,
   "id": "8aa106a2",
   "metadata": {},
   "outputs": [],
   "source": [
    "import analysis\n",
    "importlib.reload(analysis)\n",
    "wb = load_workbook('template.xlsx')\n",
    "ws: Worksheet = wb[\"Most Played Charts\"]\n",
    "analysis.create_most_played_charts_sheet(ws, s)\n",
    "wb.save('template2.xlsx')"
   ]
  },
  {
   "cell_type": "code",
   "execution_count": null,
   "id": "d5289a07",
   "metadata": {
    "scrolled": true
   },
   "outputs": [],
   "source": [
    "import analysis\n",
    "importlib.reload(analysis)\n",
    "wb = load_workbook('template.xlsx')\n",
    "ws: Worksheet = wb[\"Most Played Songs\"]\n",
    "analysis.create_most_played_songs_sheet(ws, s)\n",
    "wb.save('template2.xlsx')"
   ]
  },
  {
   "cell_type": "code",
   "execution_count": null,
   "id": "22bc0ccf",
   "metadata": {},
   "outputs": [],
   "source": [
    "import analysis\n",
    "importlib.reload(analysis)\n",
    "wb = load_workbook('template.xlsx')\n",
    "ws: Worksheet = wb[\"Most Played Packs\"]\n",
    "analysis.create_most_played_packs_sheet(ws, s)\n",
    "wb.save('template2.xlsx')"
   ]
  },
  {
   "cell_type": "code",
   "execution_count": null,
   "id": "c1917f4a",
   "metadata": {},
   "outputs": [],
   "source": [
    "import analysis\n",
    "importlib.reload(analysis)\n",
    "wb = load_workbook('template.xlsx')\n",
    "ws: Worksheet = wb[\"Recently Played Packs\"]\n",
    "analysis.create_recently_played_packs_sheet(ws, s)\n",
    "wb.save('template2.xlsx')"
   ]
  },
  {
   "cell_type": "code",
   "execution_count": null,
   "id": "aa660624",
   "metadata": {},
   "outputs": [],
   "source": [
    "import analysis\n",
    "importlib.reload(analysis)\n",
    "wb = load_workbook('template.xlsx')\n",
    "ws: Worksheet = wb[\"Pack Completion\"]\n",
    "analysis.create_pack_completion_sheet(ws, s)\n",
    "wb.save('template2.xlsx')"
   ]
  },
  {
   "cell_type": "code",
   "execution_count": null,
   "id": "d3611202",
   "metadata": {
    "scrolled": false
   },
   "outputs": [],
   "source": [
    "import analysis\n",
    "importlib.reload(analysis)\n",
    "wb = load_workbook('template.xlsx')\n",
    "ws: Worksheet = wb[\"Highest Scores + Passes\"]\n",
    "analysis.create_highest_scores_sheet(ws, s)\n",
    "wb.save('template2.xlsx')"
   ]
  }
 ],
 "metadata": {
  "kernelspec": {
   "display_name": "Python 3 (ipykernel)",
   "language": "python",
   "name": "python3"
  },
  "language_info": {
   "codemirror_mode": {
    "name": "ipython",
    "version": 3
   },
   "file_extension": ".py",
   "mimetype": "text/x-python",
   "name": "python",
   "nbconvert_exporter": "python",
   "pygments_lexer": "ipython3",
   "version": "3.9.13"
  }
 },
 "nbformat": 4,
 "nbformat_minor": 5
}
